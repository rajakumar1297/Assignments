{
 "cells": [
  {
   "cell_type": "markdown",
   "id": "c076a7bb",
   "metadata": {},
   "source": [
    "1.1 Write a Python Program(with class concepts) to find the area of the triangle using the below\n",
    "formula.\n",
    "area = (s*(s-a)*(s-b)*(s-c)) ** 0.5"
   ]
  },
  {
   "cell_type": "code",
   "execution_count": 7,
   "id": "ad5f43da",
   "metadata": {},
   "outputs": [
    {
     "name": "stdout",
     "output_type": "stream",
     "text": [
      "Enter the side of triangle: 8\n",
      "11\n",
      "13\n",
      "Area of triangel= 43.81780460041329\n"
     ]
    }
   ],
   "source": [
    "class Area:\n",
    "    def __init__(self,a,b,c):\n",
    "        self.a=a\n",
    "        self.b=b\n",
    "        self.c=c\n",
    "    def Tri_area(self):\n",
    "        s=(a+b+c)/2\n",
    "        return (s*(s-a)*(s-b)*(s-c))**0.5\n",
    "a,b,c=int(input(\"Enter the side of triangle: \")),int(input()),int(input())\n",
    "tri=Area(a,b,c)\n",
    "print(\"Area of triangel=\",abs(tri.Tri_area()))\n"
   ]
  },
  {
   "cell_type": "markdown",
   "id": "f868fd3e",
   "metadata": {},
   "source": [
    "\n",
    "1.2 Write a function filter_long_words() that takes a list of words and an integer n and returns\n",
    "the list of words that are longer than n.\n"
   ]
  },
  {
   "cell_type": "code",
   "execution_count": 8,
   "id": "76b4af78",
   "metadata": {},
   "outputs": [
    {
     "name": "stdout",
     "output_type": "stream",
     "text": [
      "['COMPUTER Science', 'Machine Learning', 'Deep Learning']\n"
     ]
    }
   ],
   "source": [
    "def filter_long_words(l,n):\n",
    "    result=[]\n",
    "    for i in l:\n",
    "        if len(i)>n:\n",
    "            result.append(i)\n",
    "    return result\n",
    "l=['MCA','COMPUTER Science','Machine Learning','Deep Learning']\n",
    "n=5\n",
    "print(filter_long_words(l,n))"
   ]
  },
  {
   "cell_type": "markdown",
   "id": "a5a971c3",
   "metadata": {},
   "source": []
  },
  {
   "cell_type": "markdown",
   "id": "cc1b1681",
   "metadata": {},
   "source": []
  },
  {
   "cell_type": "markdown",
   "id": "fdeeeded",
   "metadata": {},
   "source": [
    "2.1 Write a Python program using function concept that maps list of words into a list of integers \n",
    "representing the lengths of the corresponding words.\n",
    "Hint: If a list [ ab,cde,erty] is passed on to the python function output should come as [2,3,4]\n",
    "Here 2,3 and 4 are the lengths of the words in the list."
   ]
  },
  {
   "cell_type": "code",
   "execution_count": 10,
   "id": "b7cf1727",
   "metadata": {},
   "outputs": [
    {
     "name": "stdout",
     "output_type": "stream",
     "text": [
      "Desired list= [2, 3, 4]\n"
     ]
    }
   ],
   "source": [
    "def Count_len(l):\n",
    "    return [len(i) for i in l]\n",
    "l=[ 'ab','cde','erty']\n",
    "print(\"Desired list=\",Count_len(l))"
   ]
  },
  {
   "cell_type": "code",
   "execution_count": null,
   "id": "a5adcd85",
   "metadata": {},
   "outputs": [],
   "source": []
  },
  {
   "cell_type": "markdown",
   "id": "4dbb2d62",
   "metadata": {},
   "source": [
    "2.2 Write a Python function which takes a character (i.e. a string of length 1) and returns True if \n",
    "it is a vowel, False otherwise."
   ]
  },
  {
   "cell_type": "code",
   "execution_count": 12,
   "id": "63c389d2",
   "metadata": {},
   "outputs": [
    {
     "name": "stdout",
     "output_type": "stream",
     "text": [
      "b\n",
      "False\n"
     ]
    }
   ],
   "source": [
    "def find_vowel(c):\n",
    "    l=['a','e','i','o','u']\n",
    "    if c.lower() in l:\n",
    "        return True\n",
    "    else:\n",
    "        return False\n",
    "char=input()\n",
    "print(find_vowel(char))"
   ]
  },
  {
   "cell_type": "code",
   "execution_count": null,
   "id": "52abd1f4",
   "metadata": {},
   "outputs": [],
   "source": []
  }
 ],
 "metadata": {
  "kernelspec": {
   "display_name": "Python 3",
   "language": "python",
   "name": "python3"
  },
  "language_info": {
   "codemirror_mode": {
    "name": "ipython",
    "version": 3
   },
   "file_extension": ".py",
   "mimetype": "text/x-python",
   "name": "python",
   "nbconvert_exporter": "python",
   "pygments_lexer": "ipython3",
   "version": "3.8.8"
  }
 },
 "nbformat": 4,
 "nbformat_minor": 5
}
